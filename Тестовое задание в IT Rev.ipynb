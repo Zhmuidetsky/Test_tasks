{
 "cells": [
  {
   "cell_type": "code",
   "execution_count": 1,
   "id": "f8507286",
   "metadata": {},
   "outputs": [],
   "source": [
    "import pandas as pd"
   ]
  },
  {
   "cell_type": "code",
   "execution_count": 2,
   "id": "5b6b0b66",
   "metadata": {},
   "outputs": [],
   "source": [
    "data = {\n",
    "    'clientId': [1, 2, 3, 4, 5],\n",
    "    'sessionId': [101, 102, 103, 104, 105],\n",
    "    'datetime': ['2022-01-01 12:00:00', '2022-01-01 13:00:00', '2022-01-01 14:00:00', '2022-01-01 15:00:00', '2022-01-01 16:00:00'],\n",
    "    'status': ['success', 'failed', 'success', 'success', 'failed'],\n",
    "    'category': ['login', 'payment', 'transfer', 'login', 'payment']\n",
    "}\n",
    "table = pd.DataFrame(data)"
   ]
  },
  {
   "cell_type": "code",
   "execution_count": 3,
   "id": "56e00997",
   "metadata": {},
   "outputs": [
    {
     "data": {
      "text/plain": [
       "'login'"
      ]
     },
     "execution_count": 3,
     "metadata": {},
     "output_type": "execute_result"
    }
   ],
   "source": [
    "# задание 5.1 - 5.1 Показать категорию, по которой было введено наибольшее число кодов\n",
    "#table = pd.read_csv('mytable.csv')\n",
    "grouped = table.groupby('category').agg({'sessionId': 'count'}).sort_values(by='sessionId', ascending=False)\n",
    "most_popular_category = grouped.index[0]\n",
    "most_popular_category"
   ]
  },
  {
   "cell_type": "code",
   "execution_count": 4,
   "id": "527c0a4b",
   "metadata": {
    "scrolled": true
   },
   "outputs": [
    {
     "data": {
      "text/html": [
       "<div>\n",
       "<style scoped>\n",
       "    .dataframe tbody tr th:only-of-type {\n",
       "        vertical-align: middle;\n",
       "    }\n",
       "\n",
       "    .dataframe tbody tr th {\n",
       "        vertical-align: top;\n",
       "    }\n",
       "\n",
       "    .dataframe thead th {\n",
       "        text-align: right;\n",
       "    }\n",
       "</style>\n",
       "<table border=\"1\" class=\"dataframe\">\n",
       "  <thead>\n",
       "    <tr style=\"text-align: right;\">\n",
       "      <th></th>\n",
       "      <th>clientId</th>\n",
       "      <th>sessionId</th>\n",
       "      <th>datetime</th>\n",
       "      <th>status</th>\n",
       "      <th>category</th>\n",
       "      <th>indicator</th>\n",
       "    </tr>\n",
       "  </thead>\n",
       "  <tbody>\n",
       "    <tr>\n",
       "      <th>1</th>\n",
       "      <td>2</td>\n",
       "      <td>102</td>\n",
       "      <td>2022-01-01 13:00:00</td>\n",
       "      <td>failed</td>\n",
       "      <td>payment</td>\n",
       "      <td>1</td>\n",
       "    </tr>\n",
       "    <tr>\n",
       "      <th>2</th>\n",
       "      <td>3</td>\n",
       "      <td>103</td>\n",
       "      <td>2022-01-01 14:00:00</td>\n",
       "      <td>success</td>\n",
       "      <td>transfer</td>\n",
       "      <td>2</td>\n",
       "    </tr>\n",
       "    <tr>\n",
       "      <th>4</th>\n",
       "      <td>5</td>\n",
       "      <td>105</td>\n",
       "      <td>2022-01-01 16:00:00</td>\n",
       "      <td>failed</td>\n",
       "      <td>payment</td>\n",
       "      <td>1</td>\n",
       "    </tr>\n",
       "  </tbody>\n",
       "</table>\n",
       "</div>"
      ],
      "text/plain": [
       "   clientId  sessionId             datetime   status  category  indicator\n",
       "1         2        102  2022-01-01 13:00:00   failed   payment          1\n",
       "2         3        103  2022-01-01 14:00:00  success  transfer          2\n",
       "4         5        105  2022-01-01 16:00:00   failed   payment          1"
      ]
     },
     "execution_count": 4,
     "metadata": {},
     "output_type": "execute_result"
    }
   ],
   "source": [
    "# задание 5.2 Добавить индикатор, который будет выделять следующие значения:\n",
    "#table = pd.read_csv('mytable.csv')\n",
    "table['indicator'] = table['category'].apply(lambda x: 1 if x == 'payment' else (2 if x == 'transfer' and x != 'acc' else 3))\n",
    "result = table[table['indicator'].isin([1, 2])]\n",
    "result"
   ]
  },
  {
   "cell_type": "code",
   "execution_count": 5,
   "id": "0585f994",
   "metadata": {},
   "outputs": [
    {
     "name": "stdout",
     "output_type": "stream",
     "text": [
      "<class 'pandas.core.frame.DataFrame'>\n",
      "RangeIndex: 5 entries, 0 to 4\n",
      "Data columns (total 6 columns):\n",
      " #   Column     Non-Null Count  Dtype \n",
      "---  ------     --------------  ----- \n",
      " 0   clientId   5 non-null      int64 \n",
      " 1   sessionId  5 non-null      int64 \n",
      " 2   datetime   5 non-null      object\n",
      " 3   status     5 non-null      object\n",
      " 4   category   5 non-null      object\n",
      " 5   indicator  5 non-null      int64 \n",
      "dtypes: int64(3), object(3)\n",
      "memory usage: 368.0+ bytes\n"
     ]
    }
   ],
   "source": [
    "table.info()"
   ]
  },
  {
   "cell_type": "code",
   "execution_count": 6,
   "id": "5555bcb8",
   "metadata": {},
   "outputs": [
    {
     "name": "stdout",
     "output_type": "stream",
     "text": [
      "   month  clients_pct\n",
      "0      1          NaN\n",
      "1      1        100.0\n"
     ]
    }
   ],
   "source": [
    "mon_cl = table[table['category'] == 'login'].groupby('datetime').agg({'clientId': 'nunique'}).reset_index()\n",
    "mon_cl['month'] = pd.to_datetime(mon_cl['datetime']).dt.month\n",
    "mon_cl = mon_cl[['month', 'clientId']]\n",
    "\n",
    "mon_cl['clients_pct'] = round((mon_cl['clientId'] / mon_cl['clientId'].shift()) * 100, 2)\n",
    "\n",
    "print(mon_cl[['month', 'clients_pct']])"
   ]
  }
 ],
 "metadata": {
  "kernelspec": {
   "display_name": "Python 3 (ipykernel)",
   "language": "python",
   "name": "python3"
  },
  "language_info": {
   "codemirror_mode": {
    "name": "ipython",
    "version": 3
   },
   "file_extension": ".py",
   "mimetype": "text/x-python",
   "name": "python",
   "nbconvert_exporter": "python",
   "pygments_lexer": "ipython3",
   "version": "3.10.7"
  },
  "toc": {
   "base_numbering": 1,
   "nav_menu": {},
   "number_sections": true,
   "sideBar": true,
   "skip_h1_title": false,
   "title_cell": "Table of Contents",
   "title_sidebar": "Contents",
   "toc_cell": false,
   "toc_position": {},
   "toc_section_display": true,
   "toc_window_display": false
  },
  "varInspector": {
   "cols": {
    "lenName": 16,
    "lenType": 16,
    "lenVar": 40
   },
   "kernels_config": {
    "python": {
     "delete_cmd_postfix": "",
     "delete_cmd_prefix": "del ",
     "library": "var_list.py",
     "varRefreshCmd": "print(var_dic_list())"
    },
    "r": {
     "delete_cmd_postfix": ") ",
     "delete_cmd_prefix": "rm(",
     "library": "var_list.r",
     "varRefreshCmd": "cat(var_dic_list()) "
    }
   },
   "types_to_exclude": [
    "module",
    "function",
    "builtin_function_or_method",
    "instance",
    "_Feature"
   ],
   "window_display": false
  }
 },
 "nbformat": 4,
 "nbformat_minor": 5
}
